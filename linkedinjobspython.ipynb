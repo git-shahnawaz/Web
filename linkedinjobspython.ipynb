{
 "cells": [
  {
   "cell_type": "code",
   "execution_count": 239,
   "metadata": {},
   "outputs": [],
   "source": [
    "#Import Packages\n",
    "from selenium import webdriver\n",
    "import time\n",
    "import pandas as pd\n",
    "import os"
   ]
  },
  {
   "cell_type": "code",
   "execution_count": 240,
   "metadata": {},
   "outputs": [],
   "source": [
    "#Import Packages\n",
    "\n",
    "from selenium.webdriver.support.select import Select\n",
    "from selenium.webdriver.support.ui import WebDriverWait\n",
    "from selenium.webdriver.common.by import By\n",
    "from selenium.webdriver.support import expected_conditions as EC"
   ]
  },
  {
   "cell_type": "code",
   "execution_count": 241,
   "metadata": {},
   "outputs": [],
   "source": [
    "#Use this Url and change city or role accordingly\n",
    "\n",
    "url1='https://www.linkedin.com/jobs/search?keywords=&location=China&locationId=&geoId=102890883&f_TPR=r604800&f_JT=F%2CC&f_WT=2&position=1&pageNum=0'"
   ]
  },
  {
   "cell_type": "code",
   "execution_count": 242,
   "metadata": {},
   "outputs": [],
   "source": [
    "#Load the web driver and get the url\n",
    "\n",
    "driver = webdriver.Chrome(executable_path=r'D:\\\\apk\\\\chromedriver-win64\\\\chromedriver.exe')\n",
    "driver.implicitly_wait(10)\n",
    "driver.get(url1)"
   ]
  },
  {
   "cell_type": "code",
   "execution_count": 243,
   "metadata": {},
   "outputs": [],
   "source": [
    "#Find number of job listings\n",
    "y=driver.find_elements_by_class_name('results-context-header__job-count')[0].text"
   ]
  },
  {
   "cell_type": "code",
   "execution_count": 244,
   "metadata": {},
   "outputs": [
    {
     "name": "stdout",
     "output_type": "stream",
     "text": [
      "600\n"
     ]
    }
   ],
   "source": [
    "# Remove commas and other non-numeric characters\n",
    "numeric_value = int(''.join(filter(str.isdigit,y)))\n",
    "\n",
    "print(numeric_value)\n",
    "\n",
    "n=pd.to_numeric(numeric_value)"
   ]
  },
  {
   "cell_type": "code",
   "execution_count": 245,
   "metadata": {},
   "outputs": [],
   "source": [
    "i = 2\n",
    "while i<=int((n+200)/25)+1:\n",
    "    driver.execute_script(\"window.scrollTo(0, document.body.scrollHeight);\")\n",
    "    i = i + 1\n",
    "    \n",
    "    try:\n",
    "        send=driver.find_element_by_xpath(\"//button[@aria-label='See more jobs']\")\n",
    "        driver.execute_script(\"arguments[0].click();\", send)   \n",
    "        time.sleep(3)\n",
    "    except:\n",
    "        break;"
   ]
  },
  {
   "cell_type": "code",
   "execution_count": 246,
   "metadata": {},
   "outputs": [],
   "source": [
    "#Create empty lists for company name and job title\n",
    "\n",
    "companyname= []\n",
    "titlename= []\n",
    "#joblink=[]\n",
    "location=[]"
   ]
  },
  {
   "cell_type": "code",
   "execution_count": 247,
   "metadata": {},
   "outputs": [],
   "source": [
    "companyname.clear();\n",
    "titlename.clear();\n",
    "location.clear();\n",
    "joblink.clear();"
   ]
  },
  {
   "cell_type": "code",
   "execution_count": 248,
   "metadata": {},
   "outputs": [
    {
     "name": "stdout",
     "output_type": "stream",
     "text": [
      "Done\n"
     ]
    }
   ],
   "source": [
    "#Find company name and append it to the blank list\n",
    "try:\n",
    "    for i in range(n):\n",
    "        company=driver.find_elements_by_class_name('base-search-card__subtitle')[i].text\n",
    "        companyname.append(company)\n",
    "        title=driver.find_elements_by_class_name('base-search-card__title')[i].text\n",
    "        titlename.append(title)\n",
    "        loc=driver.find_elements_by_class_name('job-search-card__location')[i].text\n",
    "        location.append(loc)\n",
    "except IndexError:\n",
    "    print(\"Done\")   "
   ]
  },
  {
   "cell_type": "code",
   "execution_count": 249,
   "metadata": {},
   "outputs": [
    {
     "data": {
      "text/plain": [
       "550"
      ]
     },
     "execution_count": 249,
     "metadata": {},
     "output_type": "execute_result"
    }
   ],
   "source": [
    "#companyname\n",
    "len(companyname)"
   ]
  },
  {
   "cell_type": "code",
   "execution_count": 250,
   "metadata": {},
   "outputs": [],
   "source": [
    "jobList = driver.find_elements_by_class_name('base-card__full-link')\n",
    "hrefList = []\n",
    "for e in jobList:\n",
    "    hrefList.append(e.get_attribute('href'))\n",
    "\n",
    "# for href in hrefList:\n",
    "#     hrefList.append(href)\n",
    "temp=len(companyname)-len(hrefList)\n",
    "for i in range(0,temp):\n",
    "    hrefList.append('N/A');"
   ]
  },
  {
   "cell_type": "code",
   "execution_count": 251,
   "metadata": {},
   "outputs": [],
   "source": [
    "#hrefList.clear()\n",
    "#hrefList"
   ]
  },
  {
   "cell_type": "code",
   "execution_count": 252,
   "metadata": {},
   "outputs": [],
   "source": [
    "#Create dataframe for company name and title\n",
    "\n",
    "companyfinal=pd.DataFrame(companyname,columns=[\"company\"])\n",
    "titlefinal=pd.DataFrame(titlename,columns=[\"title\"])\n",
    "locationfinal=pd.DataFrame(location,columns=[\"location\"])\n",
    "joblinkfinal=pd.DataFrame(hrefList,columns=[\"job link\"])"
   ]
  },
  {
   "cell_type": "code",
   "execution_count": 253,
   "metadata": {},
   "outputs": [],
   "source": [
    "#Join the two lists\n",
    "\n",
    "x=companyfinal.join(titlefinal).join(locationfinal).join(joblinkfinal)\n",
    "#info=x.join(locationfinal)\n",
    "#Save file in your directory\n",
    "\n",
    "\n"
   ]
  },
  {
   "cell_type": "code",
   "execution_count": 254,
   "metadata": {},
   "outputs": [],
   "source": [
    "#x"
   ]
  },
  {
   "cell_type": "code",
   "execution_count": 255,
   "metadata": {},
   "outputs": [],
   "source": [
    "existing_file_path = 'linkedinscrap.csv'\n",
    "\n",
    "# Write the DataFrame to the existing CSV file\n",
    "x.to_csv(existing_file_path, mode='a', header=False, index=False)\n",
    "\n",
    "\n",
    "#info.to_csv('linkedinscrap.csv')"
   ]
  },
  {
   "cell_type": "code",
   "execution_count": 256,
   "metadata": {},
   "outputs": [],
   "source": [
    "##for clearing existing csv file\n",
    "# file_path = 'linkedinscrap.csv'\n",
    "\n",
    "# # Open the file in write mode and write an empty string\n",
    "# with open(file_path, 'w') as file:\n",
    "#     file.write('')"
   ]
  },
  {
   "cell_type": "code",
   "execution_count": 257,
   "metadata": {},
   "outputs": [],
   "source": [
    "\n",
    "#Find job links and append it to a list\n",
    "# link=[]\n",
    "\n",
    "# jobList = driver.find_elements_by_class_name('base-card__full-link')\n",
    "# hrefList = []\n",
    "# for e in jobList:\n",
    "#     hrefList.append(e.get_attribute('href'))\n",
    "\n",
    "# for href in hrefList:\n",
    "#     link.append(href)\n",
    "    "
   ]
  },
  {
   "cell_type": "code",
   "execution_count": 258,
   "metadata": {},
   "outputs": [],
   "source": [
    "#len(link)\n",
    "#linklist=pd.DataFrame(hrefList,columns=[\"joblinks\"])\n"
   ]
  },
  {
   "cell_type": "code",
   "execution_count": 259,
   "metadata": {},
   "outputs": [],
   "source": [
    "#if i want to make new csv file\n",
    "# linklist.to_csv('linkedinlinks.csv')"
   ]
  },
  {
   "cell_type": "code",
   "execution_count": 260,
   "metadata": {},
   "outputs": [],
   "source": [
    "#Close the driver\n",
    "\n",
    "driver.close()"
   ]
  },
  {
   "cell_type": "code",
   "execution_count": null,
   "metadata": {},
   "outputs": [],
   "source": []
  },
  {
   "cell_type": "code",
   "execution_count": null,
   "metadata": {},
   "outputs": [],
   "source": []
  }
 ],
 "metadata": {
  "kernelspec": {
   "display_name": "Python 3 (ipykernel)",
   "language": "python",
   "name": "python3"
  },
  "language_info": {
   "codemirror_mode": {
    "name": "ipython",
    "version": 3
   },
   "file_extension": ".py",
   "mimetype": "text/x-python",
   "name": "python",
   "nbconvert_exporter": "python",
   "pygments_lexer": "ipython3",
   "version": "3.11.5"
  }
 },
 "nbformat": 4,
 "nbformat_minor": 4
}
